{
 "cells": [
  {
   "cell_type": "code",
   "execution_count": 1,
   "metadata": {},
   "outputs": [
    {
     "name": "stderr",
     "output_type": "stream",
     "text": [
      "Using TensorFlow backend.\n"
     ]
    }
   ],
   "source": [
    "import os\n",
    "import numpy as np\n",
    "from keras.models import Sequential\n",
    "from keras.layers import Activation, Dropout, Flatten, Dense\n",
    "from keras.layers import Convolution2D, MaxPooling2D, ZeroPadding2D\n",
    "from keras.preprocessing.image import ImageDataGenerator\n",
    "from keras import optimizers"
   ]
  },
  {
   "cell_type": "code",
   "execution_count": 2,
   "metadata": {
    "collapsed": true
   },
   "outputs": [],
   "source": [
    "# dimensions of our images.\n",
    "img_width, img_height = 150, 150\n",
    "\n",
    "train_data_dir = '../data/train'\n",
    "validation_data_dir = '../data/validation'"
   ]
  },
  {
   "cell_type": "code",
   "execution_count": 3,
   "metadata": {
    "collapsed": true
   },
   "outputs": [],
   "source": [
    "train_datagen_augmented = ImageDataGenerator(\n",
    "        rescale=1./255,        # normalize pixel values to [0,1]\n",
    "        shear_range=0.2,       # randomly applies shearing transformation\n",
    "        zoom_range=0.2,        # randomly applies shearing transformation\n",
    "        horizontal_flip=True)  # randomly flip the images\n",
    "\n",
    "datagen = ImageDataGenerator(rescale=1./255)"
   ]
  },
  {
   "cell_type": "code",
   "execution_count": 4,
   "metadata": {},
   "outputs": [
    {
     "name": "stdout",
     "output_type": "stream",
     "text": [
      "Found 40805 images belonging to 25 classes.\n",
      "Found 8856 images belonging to 25 classes.\n"
     ]
    }
   ],
   "source": [
    "batch_size = 32\n",
    "\n",
    "train_generator = train_datagen_augmented.flow_from_directory(\n",
    "        train_data_dir,\n",
    "        target_size=(img_width, img_height),\n",
    "        batch_size=batch_size)\n",
    "\n",
    "validation_generator = datagen.flow_from_directory(\n",
    "        validation_data_dir,\n",
    "        target_size=(img_width, img_height),\n",
    "        batch_size=batch_size)"
   ]
  },
  {
   "cell_type": "code",
   "execution_count": 5,
   "metadata": {
    "collapsed": true
   },
   "outputs": [],
   "source": [
    "model = Sequential()\n",
    "model.add(Convolution2D(32, (3, 3), input_shape=(img_width, img_height,3)))\n",
    "model.add(Activation('relu'))\n",
    "model.add(MaxPooling2D(pool_size=(2, 2)))\n",
    "\n",
    "model.add(Convolution2D(32, (3, 3)))\n",
    "model.add(Activation('relu'))\n",
    "model.add(MaxPooling2D(pool_size=(2, 2)))\n",
    "\n",
    "model.add(Convolution2D(64, (3, 3)))\n",
    "model.add(Activation('relu'))\n",
    "model.add(MaxPooling2D(pool_size=(2, 2)))\n",
    "\n",
    "model.add(Flatten())\n",
    "model.add(Dense(512))\n",
    "model.add(Activation('relu'))\n",
    "model.add(Dropout(0.5))\n",
    "model.add(Dense(25))\n",
    "model.add(Activation('softmax'))"
   ]
  },
  {
   "cell_type": "code",
   "execution_count": 6,
   "metadata": {
    "collapsed": true
   },
   "outputs": [],
   "source": [
    "# initiate RMSprop optimizer\n",
    "opt = optimizers.rmsprop(lr=0.0001, decay=1e-6)"
   ]
  },
  {
   "cell_type": "code",
   "execution_count": 7,
   "metadata": {
    "collapsed": true
   },
   "outputs": [],
   "source": [
    "model.compile(loss='categorical_crossentropy',\n",
    "              optimizer=opt,\n",
    "              metrics=['accuracy', 'top_k_categorical_accuracy'])"
   ]
  },
  {
   "cell_type": "code",
   "execution_count": null,
   "metadata": {
    "collapsed": true
   },
   "outputs": [],
   "source": [
    "epochs = 50\n",
    "train_samples = 4080\n",
    "validation_samples = 885"
   ]
  },
  {
   "cell_type": "code",
   "execution_count": null,
   "metadata": {
    "scrolled": false
   },
   "outputs": [
    {
     "name": "stdout",
     "output_type": "stream",
     "text": [
      "Epoch 1/50\n",
      "127/127 [==============================] - 94s - loss: 3.1519 - acc: 0.0864 - top_k_categorical_accuracy: 0.3132 - val_loss: 2.9969 - val_acc: 0.1562 - val_top_k_categorical_accuracy: 0.4178\n",
      "Epoch 2/50\n",
      "127/127 [==============================] - 91s - loss: 2.8657 - acc: 0.1845 - top_k_categorical_accuracy: 0.4840 - val_loss: 2.7831 - val_acc: 0.2176 - val_top_k_categorical_accuracy: 0.5301\n",
      "Epoch 3/50\n",
      "127/127 [==============================] - 87s - loss: 2.6420 - acc: 0.2547 - top_k_categorical_accuracy: 0.5738 - val_loss: 2.6769 - val_acc: 0.2361 - val_top_k_categorical_accuracy: 0.5521\n",
      "Epoch 4/50\n",
      "127/127 [==============================] - 88s - loss: 2.5191 - acc: 0.2808 - top_k_categorical_accuracy: 0.6176 - val_loss: 2.5244 - val_acc: 0.2963 - val_top_k_categorical_accuracy: 0.6157\n",
      "Epoch 5/50\n",
      "127/127 [==============================] - 87s - loss: 2.3519 - acc: 0.3351 - top_k_categorical_accuracy: 0.6722 - val_loss: 2.5108 - val_acc: 0.2940 - val_top_k_categorical_accuracy: 0.6030\n",
      "Epoch 6/50\n",
      "127/127 [==============================] - 88s - loss: 1.8367 - acc: 0.4906 - top_k_categorical_accuracy: 0.7837 - val_loss: 2.1238 - val_acc: 0.3947 - val_top_k_categorical_accuracy: 0.7338\n",
      "Epoch 13/50\n",
      "127/127 [==============================] - 88s - loss: 1.7889 - acc: 0.5039 - top_k_categorical_accuracy: 0.7884 - val_loss: 2.0030 - val_acc: 0.4259 - val_top_k_categorical_accuracy: 0.7373\n",
      "Epoch 14/50\n",
      "127/127 [==============================] - 87s - loss: 1.7834 - acc: 0.4985 - top_k_categorical_accuracy: 0.7972 - val_loss: 1.9868 - val_acc: 0.4491 - val_top_k_categorical_accuracy: 0.7569\n",
      "Epoch 15/50\n",
      "127/127 [==============================] - 87s - loss: 1.7276 - acc: 0.5125 - top_k_categorical_accuracy: 0.8071 - val_loss: 1.9769 - val_acc: 0.4340 - val_top_k_categorical_accuracy: 0.7604\n",
      "Epoch 16/50\n",
      "127/127 [==============================] - 87s - loss: 1.7065 - acc: 0.5278 - top_k_categorical_accuracy: 0.8076 - val_loss: 1.9554 - val_acc: 0.4583 - val_top_k_categorical_accuracy: 0.7720\n",
      "Epoch 17/50\n",
      "127/127 [==============================] - 90s - loss: 1.6365 - acc: 0.5322 - top_k_categorical_accuracy: 0.8342 - val_loss: 1.9548 - val_acc: 0.4572 - val_top_k_categorical_accuracy: 0.7500\n",
      "Epoch 18/50\n",
      "127/127 [==============================] - 88s - loss: 1.5473 - acc: 0.5657 - top_k_categorical_accuracy: 0.8447 - val_loss: 1.9556 - val_acc: 0.4560 - val_top_k_categorical_accuracy: 0.7535\n",
      "Epoch 19/50\n",
      "127/127 [==============================] - 87s - loss: 1.5878 - acc: 0.5657 - top_k_categorical_accuracy: 0.8282 - val_loss: 1.8842 - val_acc: 0.4711 - val_top_k_categorical_accuracy: 0.7674\n",
      "Epoch 20/50\n",
      "127/127 [==============================] - 87s - loss: 1.5356 - acc: 0.5618 - top_k_categorical_accuracy: 0.8413 - val_loss: 1.8712 - val_acc: 0.4685 - val_top_k_categorical_accuracy: 0.7769\n",
      "Epoch 21/50\n",
      "127/127 [==============================] - 87s - loss: 1.5129 - acc: 0.5744 - top_k_categorical_accuracy: 0.8450 - val_loss: 1.8129 - val_acc: 0.4803 - val_top_k_categorical_accuracy: 0.7859\n",
      "Epoch 22/50\n",
      "127/127 [==============================] - 87s - loss: 1.4651 - acc: 0.5893 - top_k_categorical_accuracy: 0.8531 - val_loss: 1.8136 - val_acc: 0.4965 - val_top_k_categorical_accuracy: 0.7870\n",
      "Epoch 23/50\n",
      "127/127 [==============================] - 87s - loss: 1.4724 - acc: 0.5896 - top_k_categorical_accuracy: 0.8489 - val_loss: 1.8703 - val_acc: 0.5046 - val_top_k_categorical_accuracy: 0.7801\n",
      "Epoch 24/50\n",
      "127/127 [==============================] - 88s - loss: 1.4644 - acc: 0.5930 - top_k_categorical_accuracy: 0.8487 - val_loss: 1.7606 - val_acc: 0.4931 - val_top_k_categorical_accuracy: 0.8044\n",
      "Epoch 25/50\n",
      "127/127 [==============================] - 87s - loss: 1.4149 - acc: 0.6115 - top_k_categorical_accuracy: 0.8600 - val_loss: 1.7878 - val_acc: 0.5093 - val_top_k_categorical_accuracy: 0.8021\n",
      "Epoch 26/50\n",
      "127/127 [==============================] - 88s - loss: 1.3784 - acc: 0.6134 - top_k_categorical_accuracy: 0.8711 - val_loss: 1.8128 - val_acc: 0.4873 - val_top_k_categorical_accuracy: 0.7894\n",
      "Epoch 27/50\n",
      "127/127 [==============================] - 87s - loss: 1.3800 - acc: 0.6080 - top_k_categorical_accuracy: 0.8713 - val_loss: 1.7105 - val_acc: 0.5116 - val_top_k_categorical_accuracy: 0.8044\n",
      "Epoch 28/50\n",
      "127/127 [==============================] - 88s - loss: 1.3230 - acc: 0.6280 - top_k_categorical_accuracy: 0.8780 - val_loss: 1.6450 - val_acc: 0.5590 - val_top_k_categorical_accuracy: 0.8264\n",
      "Epoch 29/50\n",
      "127/127 [==============================] - 88s - loss: 1.3610 - acc: 0.6090 - top_k_categorical_accuracy: 0.8693 - val_loss: 1.6898 - val_acc: 0.5278 - val_top_k_categorical_accuracy: 0.8056\n",
      "Epoch 30/50\n",
      "127/127 [==============================] - 87s - loss: 1.3659 - acc: 0.6127 - top_k_categorical_accuracy: 0.8708 - val_loss: 1.6716 - val_acc: 0.5280 - val_top_k_categorical_accuracy: 0.8131\n",
      "Epoch 31/50\n",
      "127/127 [==============================] - 87s - loss: 1.2941 - acc: 0.6354 - top_k_categorical_accuracy: 0.8871 - val_loss: 1.6199 - val_acc: 0.5301 - val_top_k_categorical_accuracy: 0.8299\n",
      "Epoch 32/50\n",
      "127/127 [==============================] - 88s - loss: 1.2649 - acc: 0.6484 - top_k_categorical_accuracy: 0.8866 - val_loss: 1.7482 - val_acc: 0.5312 - val_top_k_categorical_accuracy: 0.8113\n",
      "Epoch 33/50\n",
      "127/127 [==============================] - 87s - loss: 1.2692 - acc: 0.6425 - top_k_categorical_accuracy: 0.8853 - val_loss: 1.6323 - val_acc: 0.5509 - val_top_k_categorical_accuracy: 0.8229\n",
      "Epoch 34/50\n",
      "127/127 [==============================] - 88s - loss: 1.2618 - acc: 0.6430 - top_k_categorical_accuracy: 0.8851 - val_loss: 1.5711 - val_acc: 0.5370 - val_top_k_categorical_accuracy: 0.8368\n",
      "Epoch 35/50\n",
      "127/127 [==============================] - 88s - loss: 1.2410 - acc: 0.6496 - top_k_categorical_accuracy: 0.8868 - val_loss: 1.5979 - val_acc: 0.5417 - val_top_k_categorical_accuracy: 0.8229\n",
      "Epoch 36/50\n",
      "127/127 [==============================] - 88s - loss: 1.2474 - acc: 0.6565 - top_k_categorical_accuracy: 0.8807 - val_loss: 1.6563 - val_acc: 0.5590 - val_top_k_categorical_accuracy: 0.8125\n",
      "Epoch 37/50\n",
      "127/127 [==============================] - 87s - loss: 1.1951 - acc: 0.6663 - top_k_categorical_accuracy: 0.8967 - val_loss: 1.5585 - val_acc: 0.5544 - val_top_k_categorical_accuracy: 0.8287\n",
      "Epoch 38/50\n",
      "127/127 [==============================] - 87s - loss: 1.1653 - acc: 0.6708 - top_k_categorical_accuracy: 0.8962 - val_loss: 1.5581 - val_acc: 0.5521 - val_top_k_categorical_accuracy: 0.8426\n",
      "Epoch 39/50\n",
      "127/127 [==============================] - 87s - loss: 1.1893 - acc: 0.6639 - top_k_categorical_accuracy: 0.8996 - val_loss: 1.6058 - val_acc: 0.5625 - val_top_k_categorical_accuracy: 0.8368\n",
      "Epoch 40/50\n",
      "127/127 [==============================] - 88s - loss: 1.1580 - acc: 0.6767 - top_k_categorical_accuracy: 0.8947 - val_loss: 1.5249 - val_acc: 0.5783 - val_top_k_categorical_accuracy: 0.8294\n",
      "Epoch 41/50\n",
      "127/127 [==============================] - 86s - loss: 1.1564 - acc: 0.6725 - top_k_categorical_accuracy: 0.9015 - val_loss: 1.4797 - val_acc: 0.5995 - val_top_k_categorical_accuracy: 0.8530\n",
      "Epoch 42/50\n",
      "127/127 [==============================] - 87s - loss: 1.1568 - acc: 0.6658 - top_k_categorical_accuracy: 0.9011 - val_loss: 1.5667 - val_acc: 0.5590 - val_top_k_categorical_accuracy: 0.8414\n",
      "Epoch 43/50\n",
      "127/127 [==============================] - 88s - loss: 1.1102 - acc: 0.6877 - top_k_categorical_accuracy: 0.9043 - val_loss: 1.5539 - val_acc: 0.5903 - val_top_k_categorical_accuracy: 0.8414\n",
      "Epoch 44/50\n",
      "127/127 [==============================] - 88s - loss: 1.1277 - acc: 0.6875 - top_k_categorical_accuracy: 0.9026 - val_loss: 1.4160 - val_acc: 0.6169 - val_top_k_categorical_accuracy: 0.8542\n",
      "Epoch 45/50\n",
      "127/127 [==============================] - 91s - loss: 1.0749 - acc: 0.6978 - top_k_categorical_accuracy: 0.9158 - val_loss: 1.5007 - val_acc: 0.5764 - val_top_k_categorical_accuracy: 0.8600\n",
      "Epoch 46/50\n",
      "127/127 [==============================] - 87s - loss: 1.1365 - acc: 0.6823 - top_k_categorical_accuracy: 0.9023 - val_loss: 1.5501 - val_acc: 0.5799 - val_top_k_categorical_accuracy: 0.8275\n",
      "Epoch 47/50\n",
      "127/127 [==============================] - 89s - loss: 1.0817 - acc: 0.7030 - top_k_categorical_accuracy: 0.9062 - val_loss: 1.4457 - val_acc: 0.6088 - val_top_k_categorical_accuracy: 0.8461\n",
      "Epoch 48/50\n",
      "127/127 [==============================] - 87s - loss: 1.0589 - acc: 0.6978 - top_k_categorical_accuracy: 0.9173 - val_loss: 1.4833 - val_acc: 0.5822 - val_top_k_categorical_accuracy: 0.8426\n",
      "Epoch 49/50\n",
      "127/127 [==============================] - 87s - loss: 1.0789 - acc: 0.7020 - top_k_categorical_accuracy: 0.9136 - val_loss: 1.4488 - val_acc: 0.5868 - val_top_k_categorical_accuracy: 0.8495\n",
      "Epoch 50/50\n",
      "127/127 [==============================] - 87s - loss: 1.0871 - acc: 0.6917 - top_k_categorical_accuracy: 0.9045 - val_loss: 1.3277 - val_acc: 0.6308 - val_top_k_categorical_accuracy: 0.8808\n"
     ]
    },
    {
     "data": {
      "text/plain": [
       "<keras.callbacks.History at 0x7fc345fce748>"
      ]
     },
     "execution_count": 9,
     "metadata": {},
     "output_type": "execute_result"
    }
   ],
   "source": [
    "model.fit_generator(\n",
    "        train_generator,\n",
    "        steps_per_epoch=train_samples // batch_size,\n",
    "        epochs=epochs,\n",
    "        validation_data=validation_generator,\n",
    "        validation_steps=validation_samples// batch_size,)"
   ]
  },
  {
   "cell_type": "code",
   "execution_count": 12,
   "metadata": {
    "collapsed": true
   },
   "outputs": [],
   "source": [
    "model.save_weights('../models/augmented_50_epochs.h5')"
   ]
  },
  {
   "cell_type": "code",
   "execution_count": null,
   "metadata": {
    "collapsed": true
   },
   "outputs": [],
   "source": [
    "model.load_weights('../models/augmented_50_epochs.h5)"
   ]
  }
 ],
 "metadata": {
  "kernelspec": {
   "display_name": "Python 3",
   "language": "python",
   "name": "python3"
  },
  "language_info": {
   "codemirror_mode": {
    "name": "ipython",
    "version": 3
   },
   "file_extension": ".py",
   "mimetype": "text/x-python",
   "name": "python",
   "nbconvert_exporter": "python",
   "pygments_lexer": "ipython3",
   "version": "3.5.2"
  }
 },
 "nbformat": 4,
 "nbformat_minor": 2
}
