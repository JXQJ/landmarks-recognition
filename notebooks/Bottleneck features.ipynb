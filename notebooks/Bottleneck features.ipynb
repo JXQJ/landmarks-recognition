{
 "cells": [
  {
   "cell_type": "code",
   "execution_count": 2,
   "metadata": {},
   "outputs": [
    {
     "name": "stderr",
     "output_type": "stream",
     "text": [
      "Using TensorFlow backend.\n"
     ]
    }
   ],
   "source": [
    "import os\n",
    "import numpy as np\n",
    "from keras.models import Sequential\n",
    "from keras.layers import Activation, Dropout, Flatten, Dense\n",
    "from keras.layers import Convolution2D, MaxPooling2D, ZeroPadding2D\n",
    "from keras.preprocessing.image import ImageDataGenerator\n",
    "from keras import applications\n",
    "from keras import optimizers\n",
    "from keras.utils.np_utils import to_categorical "
   ]
  },
  {
   "cell_type": "code",
   "execution_count": 3,
   "metadata": {
    "collapsed": true
   },
   "outputs": [],
   "source": [
    "# dimensions of our images.\n",
    "img_width, img_height = 224, 224\n",
    "\n",
    "train_data_dir = '../data/train'\n",
    "validation_data_dir = '../data/validation'"
   ]
  },
  {
   "cell_type": "code",
   "execution_count": 4,
   "metadata": {
    "collapsed": true
   },
   "outputs": [],
   "source": [
    "model_vgg = applications.VGG16(include_top=False, weights='imagenet')"
   ]
  },
  {
   "cell_type": "code",
   "execution_count": 5,
   "metadata": {},
   "outputs": [
    {
     "name": "stdout",
     "output_type": "stream",
     "text": [
      "Found 40805 images belonging to 25 classes.\n",
      "Found 8856 images belonging to 25 classes.\n"
     ]
    }
   ],
   "source": [
    "datagen = ImageDataGenerator(rescale=1./255)\n",
    "\n",
    "batch_size = 32\n",
    "\n",
    "train_generator_bottleneck = datagen.flow_from_directory(\n",
    "        train_data_dir,\n",
    "        target_size=(img_width, img_height),\n",
    "        batch_size=batch_size,\n",
    "        class_mode=None,\n",
    "        shuffle=False)\n",
    "\n",
    "validation_generator_bottleneck = datagen.flow_from_directory(\n",
    "        validation_data_dir,\n",
    "        target_size=(img_width, img_height),\n",
    "        batch_size=batch_size,\n",
    "        class_mode=None,\n",
    "        shuffle=False)"
   ]
  },
  {
   "cell_type": "code",
   "execution_count": 6,
   "metadata": {
    "collapsed": true
   },
   "outputs": [],
   "source": [
    "epochs = 30\n",
    "train_samples = 40800\n",
    "validation_samples = 8832"
   ]
  },
  {
   "cell_type": "code",
   "execution_count": 7,
   "metadata": {
    "collapsed": true
   },
   "outputs": [],
   "source": [
    "# bottleneck_features_train = model_vgg.predict_generator(train_generator_bottleneck, train_samples // batch_size)\n",
    "# np.save(open('../models/bottleneck_features_train.npy', 'wb'), bottleneck_features_train)"
   ]
  },
  {
   "cell_type": "code",
   "execution_count": 8,
   "metadata": {
    "collapsed": true
   },
   "outputs": [],
   "source": [
    "# bottleneck_features_validation = model_vgg.predict_generator(validation_generator_bottleneck, validation_samples // batch_size)\n",
    "# np.save(open('../models/bottleneck_features_validation.npy', 'wb'), bottleneck_features_validation)"
   ]
  },
  {
   "cell_type": "code",
   "execution_count": 9,
   "metadata": {
    "collapsed": true
   },
   "outputs": [],
   "source": [
    "num_classes = len(train_generator_bottleneck.class_indices)\n",
    "\n",
    "train_data = np.load(open('../models/bottleneck_features_train.npy', 'rb'))\n",
    "train_labels = to_categorical(train_generator_bottleneck.classes[:40773], num_classes=num_classes)\n",
    "\n",
    "validation_data = np.load(open('../models/bottleneck_features_validation.npy', 'rb'))\n",
    "validation_labels = to_categorical(validation_generator_bottleneck.classes[:8832], num_classes=num_classes)"
   ]
  },
  {
   "cell_type": "code",
   "execution_count": 10,
   "metadata": {
    "collapsed": true
   },
   "outputs": [],
   "source": [
    "model_top = Sequential()\n",
    "model_top.add(Flatten(input_shape=train_data.shape[1:]))\n",
    "model_top.add(Dense(512, activation='relu'))\n",
    "model_top.add(Dropout(0.5))\n",
    "model_top.add(Dense(25, activation='softmax'))"
   ]
  },
  {
   "cell_type": "code",
   "execution_count": 11,
   "metadata": {
    "collapsed": true
   },
   "outputs": [],
   "source": [
    "# initiate RMSprop optimizer\n",
    "opt = optimizers.rmsprop(lr=0.0001, decay=1e-6)"
   ]
  },
  {
   "cell_type": "code",
   "execution_count": null,
   "metadata": {
    "collapsed": true
   },
   "outputs": [],
   "source": [
    "model_top.compile(optimizer=opt, loss='categorical_crossentropy', metrics=['accuracy'])"
   ]
  },
  {
   "cell_type": "code",
   "execution_count": null,
   "metadata": {},
   "outputs": [
    {
     "name": "stdout",
     "output_type": "stream",
     "text": [
      "Train on 40773 samples, validate on 8832 samples\n",
      "Epoch 1/30\n",
      "40773/40773 [==============================] - 95s - loss: 1.0052 - acc: 0.7423 - val_loss: 0.7527 - val_acc: 0.7896\n",
      "Epoch 2/30\n",
      "40773/40773 [==============================] - 95s - loss: 0.5272 - acc: 0.8753 - val_loss: 0.6108 - val_acc: 0.8274\n",
      "Epoch 3/30\n",
      "40773/40773 [==============================] - 95s - loss: 0.4274 - acc: 0.9016 - val_loss: 0.5376 - val_acc: 0.8471\n",
      "Epoch 4/30\n",
      "40773/40773 [==============================] - 86s - loss: 0.3655 - acc: 0.9196 - val_loss: 0.5028 - val_acc: 0.8586\n",
      "Epoch 5/30\n",
      "40773/40773 [==============================] - 85s - loss: 0.3291 - acc: 0.9281 - val_loss: 0.5224 - val_acc: 0.8568\n",
      "Epoch 6/30\n",
      "40773/40773 [==============================] - 86s - loss: 0.3014 - acc: 0.9352 - val_loss: 0.5051 - val_acc: 0.8596\n",
      "Epoch 7/30\n",
      "40773/40773 [==============================] - 88s - loss: 0.2779 - acc: 0.9405 - val_loss: 0.4984 - val_acc: 0.8635\n",
      "Epoch 8/30\n",
      "40773/40773 [==============================] - 93s - loss: 0.1612 - acc: 0.9677 - val_loss: 0.5847 - val_acc: 0.8747\n",
      "Epoch 23/30\n",
      "40773/40773 [==============================] - 93s - loss: 0.1563 - acc: 0.9680 - val_loss: 0.6298 - val_acc: 0.8697\n",
      "Epoch 24/30\n",
      "40773/40773 [==============================] - 85s - loss: 0.1531 - acc: 0.9691 - val_loss: 0.5981 - val_acc: 0.8743\n",
      "Epoch 25/30\n",
      "40773/40773 [==============================] - 85s - loss: 0.1507 - acc: 0.9702 - val_loss: 0.6371 - val_acc: 0.8724\n",
      "Epoch 26/30\n",
      "40773/40773 [==============================] - 85s - loss: 0.1496 - acc: 0.9700 - val_loss: 0.6184 - val_acc: 0.8717\n",
      "Epoch 27/30\n",
      "40773/40773 [==============================] - 85s - loss: 0.1486 - acc: 0.9708 - val_loss: 0.6253 - val_acc: 0.8719\n",
      "Epoch 28/30\n",
      "40773/40773 [==============================] - 85s - loss: 0.1451 - acc: 0.9715 - val_loss: 0.6540 - val_acc: 0.8710\n",
      "Epoch 29/30\n",
      "40773/40773 [==============================] - 85s - loss: 0.1458 - acc: 0.9716 - val_loss: 0.6518 - val_acc: 0.8738\n",
      "Epoch 30/30\n",
      "40773/40773 [==============================] - 85s - loss: 0.1422 - acc: 0.9726 - val_loss: 0.6709 - val_acc: 0.8702\n"
     ]
    }
   ],
   "source": [
    "history = model_top.fit(train_data, train_labels,\n",
    "        epochs=epochs, \n",
    "        batch_size=batch_size,\n",
    "        validation_data=(validation_data, validation_labels))"
   ]
  },
  {
   "cell_type": "code",
   "execution_count": 13,
   "metadata": {
    "collapsed": true
   },
   "outputs": [],
   "source": [
    "model_top.save_weights('../models/bottleneck_30_epochs.h5')"
   ]
  },
  {
   "cell_type": "code",
   "execution_count": 16,
   "metadata": {
    "collapsed": true
   },
   "outputs": [],
   "source": [
    "# model_top.load_weights('../models/bottleneck_30_epochs.h5')"
   ]
  },
  {
   "cell_type": "code",
   "execution_count": 17,
   "metadata": {},
   "outputs": [
    {
     "name": "stdout",
     "output_type": "stream",
     "text": [
      "8448/8832 [===========================>..] - ETA: 0s"
     ]
    },
    {
     "data": {
      "text/plain": [
       "[0.6712255755311175, 0.87239583333333337]"
      ]
     },
     "execution_count": 17,
     "metadata": {},
     "output_type": "execute_result"
    }
   ],
   "source": [
    "model_top.evaluate(validation_data, validation_labels)"
   ]
  },
  {
   "cell_type": "code",
   "execution_count": null,
   "metadata": {
    "collapsed": true
   },
   "outputs": [],
   "source": []
  },
  {
   "cell_type": "code",
   "execution_count": 18,
   "metadata": {
    "collapsed": true
   },
   "outputs": [],
   "source": [
    "%matplotlib inline\n",
    "import matplotlib.pyplot as plt\n",
    "import seaborn as sns\n",
    "sns.set()"
   ]
  },
  {
   "cell_type": "code",
   "execution_count": 22,
   "metadata": {},
   "outputs": [
    {
     "data": {
      "image/png": "[encoded data removed]",
      "text/plain": [
       "<matplotlib.figure.Figure at 0x7f35a09b2a58>"
      ]
     },
     "metadata": {},
     "output_type": "display_data"
    },
    {
     "data": {
      "text/plain": [
       "<matplotlib.figure.Figure at 0x7f35a0a53d68>"
      ]
     },
     "metadata": {},
     "output_type": "display_data"
    }
   ],
   "source": [
    "plt.plot(history.history['acc'])\n",
    "plt.plot(history.history['val_acc'])\n",
    "plt.title('Model accuracy')\n",
    "plt.ylabel('accuracy')\n",
    "plt.xlabel('epoch')\n",
    "plt.legend(['train', 'test'], loc='upper left')\n",
    "plt.show()\n",
    "plt.savefig('bottlenech)features.eps', format='eps', dpi=1000)"
   ]
  },
  {
   "cell_type": "code",
   "execution_count": null,
   "metadata": {
    "collapsed": true
   },
   "outputs": [],
   "source": []
  }
 ],
 "metadata": {
  "kernelspec": {
   "display_name": "Python 3",
   "language": "python",
   "name": "python3"
  },
  "language_info": {
   "codemirror_mode": {
    "name": "ipython",
    "version": 3
   },
   "file_extension": ".py",
   "mimetype": "text/x-python",
   "name": "python",
   "nbconvert_exporter": "python",
   "pygments_lexer": "ipython3",
   "version": "3.5.2"
  }
 },
 "nbformat": 4,
 "nbformat_minor": 2
}
