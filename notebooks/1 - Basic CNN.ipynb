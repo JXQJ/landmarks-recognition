{
 "cells": [
  {
   "cell_type": "markdown",
   "metadata": {},
   "source": [
    "# Small convolutional network"
   ]
  },
  {
   "cell_type": "markdown",
   "metadata": {},
   "source": [
    "### Imports"
   ]
  },
  {
   "cell_type": "code",
   "execution_count": 1,
   "metadata": {},
   "outputs": [
    {
     "name": "stderr",
     "output_type": "stream",
     "text": [
      "Using TensorFlow backend.\n"
     ]
    }
   ],
   "source": [
    "%matplotlib inline\n",
    "\n",
    "import numpy as np\n",
    "from keras.callbacks import EarlyStopping, ModelCheckpoint\n",
    "from keras.layers import Activation, Dropout, Flatten, Dense\n",
    "from keras.layers import Convolution2D, MaxPooling2D, ZeroPadding2D\n",
    "from keras.models import Sequential\n",
    "from keras.preprocessing.image import ImageDataGenerator\n",
    "import matplotlib.pyplot as plt\n",
    "import seaborn as sns\n",
    "\n",
    "sns.set()"
   ]
  },
  {
   "cell_type": "code",
   "execution_count": 2,
   "metadata": {
    "collapsed": true
   },
   "outputs": [],
   "source": [
    "# Dimensions of our images\n",
    "img_width, img_height = 224, 224\n",
    "\n",
    "n_classes = 25\n",
    "train_data_dir = '../data/train'\n",
    "validation_data_dir = '../data/validation'"
   ]
  },
  {
   "cell_type": "markdown",
   "metadata": {},
   "source": [
    "### Data preprocessing"
   ]
  },
  {
   "cell_type": "code",
   "execution_count": 3,
   "metadata": {},
   "outputs": [
    {
     "name": "stdout",
     "output_type": "stream",
     "text": [
      "Found 40805 images belonging to 25 classes.\n",
      "Found 8856 images belonging to 25 classes.\n"
     ]
    }
   ],
   "source": [
    "# Pixel values rescaling from [0, 255] to [0, 1] interval\n",
    "datagen = ImageDataGenerator(rescale=1. / 255)\n",
    "batch_size = 32\n",
    "\n",
    "# Retrieve images and their classes for train and validation sets\n",
    "train_generator = datagen.flow_from_directory(\n",
    "        train_data_dir,\n",
    "        target_size=(img_width, img_height),\n",
    "        batch_size=batch_size)\n",
    "\n",
    "validation_generator = datagen.flow_from_directory(\n",
    "        validation_data_dir,\n",
    "        target_size=(img_width, img_height),\n",
    "        batch_size=batch_size)"
   ]
  },
  {
   "cell_type": "markdown",
   "metadata": {},
   "source": [
    "### Model architecture definition\n",
    "\n",
    "A simple stack of 3 convolution layers with a ReLU activation and followed by max-pooling layers"
   ]
  },
  {
   "cell_type": "code",
   "execution_count": 4,
   "metadata": {
    "collapsed": true
   },
   "outputs": [],
   "source": [
    "model = Sequential()\n",
    "model.add(Convolution2D(32, (3, 3), input_shape=(img_width, img_height, 3)))\n",
    "model.add(Activation('relu'))\n",
    "model.add(MaxPooling2D(pool_size=(2, 2)))\n",
    "\n",
    "model.add(Convolution2D(32, (3, 3)))\n",
    "model.add(Activation('relu'))\n",
    "model.add(MaxPooling2D(pool_size=(2, 2)))\n",
    "\n",
    "model.add(Convolution2D(64, (3, 3)))\n",
    "model.add(Activation('relu'))\n",
    "model.add(MaxPooling2D(pool_size=(2, 2)))\n",
    "\n",
    "model.add(Flatten())\n",
    "model.add(Dense(512))\n",
    "model.add(Activation('relu'))\n",
    "model.add(Dropout(0.5))\n",
    "model.add(Dense(n_classes))\n",
    "model.add(Activation('softmax'))"
   ]
  },
  {
   "cell_type": "code",
   "execution_count": 5,
   "metadata": {
    "collapsed": true
   },
   "outputs": [],
   "source": [
    "model.compile(loss='categorical_crossentropy',\n",
    "              optimizer='rmsprop',\n",
    "              metrics=['accuracy'])"
   ]
  },
  {
   "cell_type": "markdown",
   "metadata": {},
   "source": [
    "### Training"
   ]
  },
  {
   "cell_type": "code",
   "execution_count": 6,
   "metadata": {
    "collapsed": true
   },
   "outputs": [],
   "source": [
    "epochs = 100\n",
    "# train_samples = 40805\n",
    "# validation_samples = 8856\n",
    "train_samples = 4080\n",
    "validation_samples = 885"
   ]
  },
  {
   "cell_type": "code",
   "execution_count": 7,
   "metadata": {
    "scrolled": true
   },
   "outputs": [
    {
     "name": "stdout",
     "output_type": "stream",
     "text": [
      "Epoch 1/100\n",
      "Epoch 00000: val_acc improved from -inf to 0.18519, saving model to ../models/basic_cnn_30_epochs.h5\n",
      "81s - loss: 3.2570 - acc: 0.1233 - val_loss: 3.1358 - val_acc: 0.1852\n",
      "Epoch 2/100\n",
      "Epoch 00001: val_acc improved from 0.18519 to 0.29282, saving model to ../models/basic_cnn_30_epochs.h5\n",
      "77s - loss: 2.5169 - acc: 0.3014 - val_loss: 2.5510 - val_acc: 0.2928\n",
      "Epoch 3/100\n",
      "Epoch 00002: val_acc improved from 0.29282 to 0.33218, saving model to ../models/basic_cnn_30_epochs.h5\n",
      "77s - loss: 2.0697 - acc: 0.4190 - val_loss: 2.5726 - val_acc: 0.3322\n",
      "Epoch 4/100\n",
      "Epoch 00003: val_acc improved from 0.33218 to 0.38542, saving model to ../models/basic_cnn_30_epochs.h5\n",
      "77s - loss: 1.9082 - acc: 0.4656 - val_loss: 2.2112 - val_acc: 0.3854\n",
      "Epoch 5/100\n",
      "Epoch 00004: val_acc improved from 0.38542 to 0.44444, saving model to ../models/basic_cnn_30_epochs.h5\n",
      "79s - loss: 1.6932 - acc: 0.5224 - val_loss: 1.9638 - val_acc: 0.4444\n",
      "Epoch 6/100\n",
      "Epoch 00005: val_acc improved from 0.44444 to 0.47801, saving model to ../models/basic_cnn_30_epochs.h5\n",
      "77s - loss: 1.5504 - acc: 0.5701 - val_loss: 1.8923 - val_acc: 0.4780\n",
      "Epoch 7/100\n",
      "Epoch 00006: val_acc did not improve\n",
      "76s - loss: 1.4509 - acc: 0.6004 - val_loss: 1.9296 - val_acc: 0.4757\n",
      "Epoch 8/100\n",
      "Epoch 00007: val_acc improved from 0.47801 to 0.53704, saving model to ../models/basic_cnn_30_epochs.h5\n",
      "76s - loss: 1.3256 - acc: 0.6233 - val_loss: 1.6167 - val_acc: 0.5370\n",
      "Epoch 9/100\n",
      "Epoch 00008: val_acc improved from 0.53704 to 0.58565, saving model to ../models/basic_cnn_30_epochs.h5\n",
      "77s - loss: 1.2681 - acc: 0.6447 - val_loss: 1.6179 - val_acc: 0.5856\n",
      "Epoch 10/100\n",
      "Epoch 00009: val_acc did not improve\n",
      "75s - loss: 1.2218 - acc: 0.6577 - val_loss: 1.7369 - val_acc: 0.5280\n",
      "Epoch 11/100\n",
      "Epoch 00010: val_acc did not improve\n",
      "77s - loss: 0.9751 - acc: 0.7243 - val_loss: 1.7058 - val_acc: 0.5602\n",
      "Epoch 12/100\n",
      "Epoch 00011: val_acc improved from 0.58565 to 0.59375, saving model to ../models/basic_cnn_30_epochs.h5\n",
      "76s - loss: 0.9324 - acc: 0.7468 - val_loss: 1.5144 - val_acc: 0.5938\n",
      "Epoch 13/100\n",
      "Epoch 00012: val_acc did not improve\n",
      "76s - loss: 0.9179 - acc: 0.7461 - val_loss: 1.5186 - val_acc: 0.5856\n",
      "Epoch 14/100\n",
      "Epoch 00013: val_acc improved from 0.59375 to 0.62616, saving model to ../models/basic_cnn_30_epochs.h5\n",
      "77s - loss: 0.9342 - acc: 0.7431 - val_loss: 1.4305 - val_acc: 0.6262\n",
      "Epoch 15/100\n",
      "Epoch 00014: val_acc did not improve\n",
      "77s - loss: 0.9189 - acc: 0.7483 - val_loss: 1.5383 - val_acc: 0.5833\n",
      "Epoch 16/100\n",
      "Epoch 00015: val_acc did not improve\n",
      "76s - loss: 0.8793 - acc: 0.7581 - val_loss: 1.4966 - val_acc: 0.6065\n",
      "Epoch 17/100\n",
      "Epoch 00016: val_acc improved from 0.62616 to 0.65394, saving model to ../models/basic_cnn_30_epochs.h5\n",
      "78s - loss: 0.8276 - acc: 0.7714 - val_loss: 1.2854 - val_acc: 0.6539\n",
      "Epoch 18/100\n",
      "Epoch 00017: val_acc did not improve\n",
      "75s - loss: 0.8460 - acc: 0.7591 - val_loss: 1.4102 - val_acc: 0.6123\n",
      "Epoch 19/100\n",
      "Epoch 00018: val_acc improved from 0.65394 to 0.67245, saving model to ../models/basic_cnn_30_epochs.h5\n",
      "77s - loss: 0.8283 - acc: 0.7685 - val_loss: 1.2971 - val_acc: 0.6725\n",
      "Epoch 20/100\n",
      "Epoch 00019: val_acc did not improve\n",
      "79s - loss: 0.7919 - acc: 0.7921 - val_loss: 1.2421 - val_acc: 0.6484\n",
      "Epoch 21/100\n",
      "Epoch 00020: val_acc improved from 0.67245 to 0.69792, saving model to ../models/basic_cnn_30_epochs.h5\n",
      "80s - loss: 0.5770 - acc: 0.8396 - val_loss: 1.1518 - val_acc: 0.6979\n",
      "Epoch 22/100\n",
      "Epoch 00021: val_acc did not improve\n",
      "77s - loss: 0.5978 - acc: 0.8413 - val_loss: 1.5529 - val_acc: 0.6273\n",
      "Epoch 23/100\n",
      "Epoch 00022: val_acc did not improve\n",
      "76s - loss: 0.6505 - acc: 0.8246 - val_loss: 1.2377 - val_acc: 0.6921\n",
      "Epoch 24/100\n",
      "Epoch 00023: val_acc did not improve\n",
      "76s - loss: 0.6016 - acc: 0.8292 - val_loss: 1.3209 - val_acc: 0.6667\n",
      "Epoch 25/100\n",
      "Epoch 00024: val_acc did not improve\n",
      "76s - loss: 0.6122 - acc: 0.8344 - val_loss: 1.3981 - val_acc: 0.6678\n",
      "Epoch 26/100\n",
      "Epoch 00025: val_acc did not improve\n",
      "75s - loss: 0.6518 - acc: 0.8172 - val_loss: 1.4579 - val_acc: 0.6192\n",
      "Epoch 27/100\n",
      "Epoch 00026: val_acc did not improve\n",
      "75s - loss: 0.6329 - acc: 0.8292 - val_loss: 1.3600 - val_acc: 0.6690\n",
      "Epoch 00026: early stopping\n"
     ]
    }
   ],
   "source": [
    "# Model saving callback\n",
    "checkpointer = ModelCheckpoint(filepath='../models/basic_cnn.h5', monitor='val_acc', verbose=1, save_best_only=True)\n",
    "\n",
    "# Early stopping\n",
    "early_stopping = EarlyStopping(monitor='val_acc', verbose=1, patience=5)\n",
    "\n",
    "history = model.fit_generator(\n",
    "        train_generator,\n",
    "        steps_per_epoch=train_samples // batch_size,\n",
    "        epochs=epochs,\n",
    "        callbacks=[checkpointer, early_stopping],\n",
    "        verbose=2,\n",
    "        validation_data=validation_generator,\n",
    "        validation_steps=validation_samples // batch_size,)"
   ]
  },
  {
   "cell_type": "markdown",
   "metadata": {},
   "source": [
    "### Evaluating on validation set\n",
    "\n",
    "Computing loss and accuracy:"
   ]
  },
  {
   "cell_type": "code",
   "execution_count": 8,
   "metadata": {},
   "outputs": [
    {
     "data": {
      "text/plain": [
       "[1.3955558236959056, 0.66376873061317898]"
      ]
     },
     "execution_count": 8,
     "metadata": {},
     "output_type": "execute_result"
    }
   ],
   "source": [
    "model.evaluate_generator(validation_generator, validation_samples, workers=12)"
   ]
  },
  {
   "cell_type": "markdown",
   "metadata": {},
   "source": [
    "Learning curve:"
   ]
  },
  {
   "cell_type": "code",
   "execution_count": 9,
   "metadata": {},
   "outputs": [
    {
     "data": {
      "image/png": "[encoded data removed]",
      "text/plain": [
       "<matplotlib.figure.Figure at 0x7fd6419199b0>"
      ]
     },
     "metadata": {},
     "output_type": "display_data"
    }
   ],
   "source": [
    "fig, ax = plt.subplots()\n",
    "plt.plot(history.history['acc'])\n",
    "plt.plot(history.history['val_acc'])\n",
    "plt.title('Model accuracy')\n",
    "plt.ylabel('Accuracy')\n",
    "plt.xlabel('Epoch')\n",
    "plt.legend(['Train', 'Test'], loc='upper left')\n",
    "plt.show()\n",
    "fig.savefig('../images/basic_cnn.svg', format='svg', dpi=1200)"
   ]
  },
  {
   "cell_type": "markdown",
   "metadata": {},
   "source": [
    "**After ~15 epochs the neural network reach ~65% accuracy. We can witness overfitting, no progress is made over validation set in the next epochs.**"
   ]
  },
  {
   "cell_type": "markdown",
   "metadata": {
    "collapsed": true
   },
   "source": [
    "### Saving the model as JSON"
   ]
  },
  {
   "cell_type": "code",
   "execution_count": 10,
   "metadata": {
    "collapsed": true
   },
   "outputs": [],
   "source": [
    "with open('../models/basic_cnn.json', 'w') as f:\n",
    "    f.write(model.to_json())"
   ]
  }
 ],
 "metadata": {
  "kernelspec": {
   "display_name": "Python 3",
   "language": "python",
   "name": "python3"
  },
  "language_info": {
   "codemirror_mode": {
    "name": "ipython",
    "version": 3
   },
   "file_extension": ".py",
   "mimetype": "text/x-python",
   "name": "python",
   "nbconvert_exporter": "python",
   "pygments_lexer": "ipython3",
   "version": "3.5.2"
  }
 },
 "nbformat": 4,
 "nbformat_minor": 2
}
